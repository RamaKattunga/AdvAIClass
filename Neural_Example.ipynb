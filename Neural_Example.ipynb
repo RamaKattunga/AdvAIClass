{
 "cells": [
  {
   "cell_type": "code",
   "execution_count": null,
   "id": "6c55ff30",
   "metadata": {},
   "outputs": [],
   "source": [
    "import numpy as np"
   ]
  },
  {
   "cell_type": "code",
   "execution_count": null,
   "id": "9eddc30e",
   "metadata": {},
   "outputs": [],
   "source": [
    "# Simulated data: Tiny subset representing pixel patterns of digits 0 or 1 from order forms\n",
    "# Each row is a simplified 4-pixel image, last column is the label (0 or 1)\n",
    "data = np.array([[0, 0, 1, 1, 0],  # Fake digit 0 pattern\n",
    "                 [0, 1, 0, 1, 1],  # Fake digit 1 pattern\n",
    "                 [1, 0, 0, 1, 1],  # Fake digit 1 pattern\n",
    "                 [1, 1, 1, 0, 0]])  # Fake digit 0 pattern\n",
    "X = data[:, :-1]  # Features (first 4 columns)\n",
    "y = data[:, -1]   # Labels (last column)"
   ]
  },
  {
   "cell_type": "code",
   "execution_count": null,
   "id": "f82f2f45",
   "metadata": {},
   "outputs": [],
   "source": [
    "# Initialize weights and bias (random guesses to start)\n",
    "np.random.seed(1)\n",
    "weights = np.random.rand(4, 1)  # 4 inputs to 1 output\n",
    "bias = np.random.rand(1)"
   ]
  },
  {
   "cell_type": "code",
   "execution_count": null,
   "id": "db643bd1",
   "metadata": {},
   "outputs": [],
   "source": [
    "# Practice a few times to \"learn\" (adjust based on guesses)\n",
    "for _ in range(5):  # Quick practice rounds\n",
    "    predictions = predict_digit(X, weights, bias)\n",
    "    # Tweak weights a bit to get closer (simplified learning)\n",
    "    weights += 0.1 * np.dot(X.T, (y - predictions))\n",
    "    bias += 0.1 * np.mean(y - predictions)"
   ]
  },
  {
   "cell_type": "code",
   "execution_count": null,
   "id": "e8fe7687",
   "metadata": {},
   "outputs": [],
   "source": [
    "# Simple neural network function (no math jargon)\n",
    "def predict_digit(inputs, weights, bias):\n",
    "    # Combine inputs with weights and add bias, then decide (if big enough, say 1, else 0)\n",
    "    combined = np.dot(inputs, weights) + bias\n",
    "    prediction = np.where(combined > 0, 1, 0)\n",
    "    return prediction"
   ]
  },
  {
   "cell_type": "code",
   "execution_count": null,
   "id": "50abaa0f",
   "metadata": {},
   "outputs": [],
   "source": [
    "# Real-time use case: Predict a digit from an order form\n",
    "order_input = np.array([1, 0, 0, 1])  # A scribbled '1' on an order form\n",
    "prediction = predict_digit(order_input.reshape(1, -1), weights, bias)[0]\n",
    "print(f\"\\nPredicted digit on order form: {prediction}\")\n",
    "print(\"Real-Time Use Case: This is like a store using AI to read a customer's handwritten '1' on an order form to process it quickly—perfect for retail jobs!\")"
   ]
  }
 ],
 "metadata": {
  "language_info": {
   "name": "python"
  }
 },
 "nbformat": 4,
 "nbformat_minor": 5
}
